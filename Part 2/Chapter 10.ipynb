{
 "cells": [
  {
   "cell_type": "markdown",
   "source": [
    "# Chapter 10 code problems"
   ],
   "metadata": {
    "collapsed": false
   },
   "id": "99aef97002c31035"
  },
  {
   "cell_type": "markdown",
   "source": [
    "### Perceptron"
   ],
   "metadata": {
    "collapsed": false
   },
   "id": "6555ba1c3778b96a"
  },
  {
   "cell_type": "code",
   "execution_count": 1,
   "outputs": [],
   "source": [
    "\n",
    "from sklearn.datasets import load_iris\n",
    "from sklearn.linear_model import Perceptron\n",
    "\n",
    "iris = load_iris()\n",
    "X = iris.data[:, (2, 3)]\n",
    "y = (iris.target == 0).astype(int)\n",
    "\n",
    "per_clf = Perceptron()\n",
    "per_clf.fit(X, y)\n",
    "\n",
    "y_pred = per_clf.predict([[2, 0.5]])"
   ],
   "metadata": {
    "collapsed": false,
    "ExecuteTime": {
     "end_time": "2023-11-07T10:40:11.825796Z",
     "start_time": "2023-11-07T10:40:09.720421Z"
    }
   },
   "id": "48e89c71babb560d"
  },
  {
   "cell_type": "markdown",
   "source": [
    "### Tensorflow"
   ],
   "metadata": {
    "collapsed": false
   },
   "id": "afd9a77d72821c26"
  },
  {
   "cell_type": "code",
   "execution_count": 2,
   "outputs": [
    {
     "name": "stderr",
     "output_type": "stream",
     "text": [
      "2023-11-07 13:40:15.851633: I tensorflow/core/platform/cpu_feature_guard.cc:182] This TensorFlow binary is optimized to use available CPU instructions in performance-critical operations.\n",
      "To enable the following instructions: AVX2 FMA, in other operations, rebuild TensorFlow with the appropriate compiler flags.\n"
     ]
    }
   ],
   "source": [
    "from tensorflow import keras\n",
    "\n",
    "fashion_mnist = keras.datasets.fashion_mnist\n",
    "(X_train_full, y_train_full), (X_test, y_test) = fashion_mnist.load_data()"
   ],
   "metadata": {
    "collapsed": false,
    "ExecuteTime": {
     "end_time": "2023-11-07T10:40:21.306736Z",
     "start_time": "2023-11-07T10:40:11.834904Z"
    }
   },
   "id": "755f33aa800b76f5"
  },
  {
   "cell_type": "code",
   "execution_count": 3,
   "outputs": [],
   "source": [
    "X_valid, X_train = X_train_full[:5000] / 255.0, X_train_full[5000:] / 255.0\n",
    "y_valid, y_train = y_train_full[:5000], y_train_full[5000:]"
   ],
   "metadata": {
    "collapsed": false,
    "ExecuteTime": {
     "end_time": "2023-11-07T10:40:21.617210Z",
     "start_time": "2023-11-07T10:40:21.310582Z"
    }
   },
   "id": "5e70b9188acd876"
  },
  {
   "cell_type": "code",
   "execution_count": 4,
   "outputs": [
    {
     "data": {
      "text/plain": "'Ankle boot'"
     },
     "execution_count": 4,
     "metadata": {},
     "output_type": "execute_result"
    }
   ],
   "source": [
    "class_names = [\"T-shirt/top\", \"Trouser\", \"Pullover\", \"Dress\", \"Coat\",\n",
    "               \"Sandal\", \"Shirt\", \"Sneaker\", \"Bag\", \"Ankle boot\"]\n",
    "\n",
    "class_names[y_train[3]]"
   ],
   "metadata": {
    "collapsed": false,
    "ExecuteTime": {
     "end_time": "2023-11-07T10:40:21.633272Z",
     "start_time": "2023-11-07T10:40:21.625859Z"
    }
   },
   "id": "4abd89f8ab861e34"
  },
  {
   "cell_type": "code",
   "execution_count": 5,
   "outputs": [],
   "source": [
    "# model = keras.models.Sequential()\n",
    "# model.add(keras.layers.Flatten(input_shape=[28,28]))\n",
    "# model.add(keras.layers.Dense(300, activation='relu'))\n",
    "# model.add(keras.layers.Dense(100, activation='relu'))\n",
    "\n",
    "model = keras.models.Sequential([\n",
    "    keras.layers.Flatten(input_shape=[28, 28]),\n",
    "    keras.layers.Dense(300, activation=\"relu\"),\n",
    "    keras.layers.Dense(100, activation=\"relu\"),\n",
    "    keras.layers.Dense(10, activation=\"softmax\"),\n",
    "]\n",
    ")\n"
   ],
   "metadata": {
    "collapsed": false,
    "ExecuteTime": {
     "end_time": "2023-11-07T10:40:21.748475Z",
     "start_time": "2023-11-07T10:40:21.640537Z"
    }
   },
   "id": "5f4ce46b24549e59"
  },
  {
   "cell_type": "code",
   "execution_count": 6,
   "outputs": [],
   "source": [
    "model.compile(\n",
    "    loss=keras.losses.sparse_categorical_crossentropy,\n",
    "    optimizer=keras.optimizers.SGD(),\n",
    "    metrics=[\"accuracy\"]\n",
    "\n",
    ")"
   ],
   "metadata": {
    "collapsed": false,
    "ExecuteTime": {
     "end_time": "2023-11-07T10:40:21.768879Z",
     "start_time": "2023-11-07T10:40:21.752850Z"
    }
   },
   "id": "13331ca4693c2c93"
  },
  {
   "cell_type": "code",
   "execution_count": 7,
   "outputs": [
    {
     "name": "stdout",
     "output_type": "stream",
     "text": [
      "Epoch 1/30\n",
      "1719/1719 [==============================] - 8s 4ms/step - loss: 0.7147 - accuracy: 0.7651 - val_loss: 0.5030 - val_accuracy: 0.8340\n",
      "Epoch 2/30\n",
      "1719/1719 [==============================] - 7s 4ms/step - loss: 0.4879 - accuracy: 0.8297 - val_loss: 0.4729 - val_accuracy: 0.8400\n",
      "Epoch 3/30\n",
      "1719/1719 [==============================] - 7s 4ms/step - loss: 0.4439 - accuracy: 0.8452 - val_loss: 0.4330 - val_accuracy: 0.8546\n",
      "Epoch 4/30\n",
      "1719/1719 [==============================] - 7s 4ms/step - loss: 0.4170 - accuracy: 0.8537 - val_loss: 0.3982 - val_accuracy: 0.8656\n",
      "Epoch 5/30\n",
      "1719/1719 [==============================] - 7s 4ms/step - loss: 0.3967 - accuracy: 0.8595 - val_loss: 0.3891 - val_accuracy: 0.8642\n",
      "Epoch 6/30\n",
      "1719/1719 [==============================] - 8s 4ms/step - loss: 0.3815 - accuracy: 0.8653 - val_loss: 0.4142 - val_accuracy: 0.8580\n",
      "Epoch 7/30\n",
      "1719/1719 [==============================] - 8s 4ms/step - loss: 0.3666 - accuracy: 0.8714 - val_loss: 0.3649 - val_accuracy: 0.8734\n",
      "Epoch 8/30\n",
      "1719/1719 [==============================] - 8s 4ms/step - loss: 0.3560 - accuracy: 0.8738 - val_loss: 0.3690 - val_accuracy: 0.8718\n",
      "Epoch 9/30\n",
      "1719/1719 [==============================] - 8s 5ms/step - loss: 0.3447 - accuracy: 0.8782 - val_loss: 0.3666 - val_accuracy: 0.8696\n",
      "Epoch 10/30\n",
      "1719/1719 [==============================] - 8s 5ms/step - loss: 0.3360 - accuracy: 0.8803 - val_loss: 0.3435 - val_accuracy: 0.8782\n",
      "Epoch 11/30\n",
      "1719/1719 [==============================] - 10s 6ms/step - loss: 0.3275 - accuracy: 0.8821 - val_loss: 0.3594 - val_accuracy: 0.8696\n",
      "Epoch 12/30\n",
      "1719/1719 [==============================] - 9s 5ms/step - loss: 0.3202 - accuracy: 0.8846 - val_loss: 0.3413 - val_accuracy: 0.8780\n",
      "Epoch 13/30\n",
      "1719/1719 [==============================] - 9s 5ms/step - loss: 0.3114 - accuracy: 0.8886 - val_loss: 0.3378 - val_accuracy: 0.8798\n",
      "Epoch 14/30\n",
      "1719/1719 [==============================] - 9s 5ms/step - loss: 0.3046 - accuracy: 0.8909 - val_loss: 0.3379 - val_accuracy: 0.8774\n",
      "Epoch 15/30\n",
      "1719/1719 [==============================] - 8s 5ms/step - loss: 0.2975 - accuracy: 0.8929 - val_loss: 0.3311 - val_accuracy: 0.8822\n",
      "Epoch 16/30\n",
      "1719/1719 [==============================] - 8s 4ms/step - loss: 0.2916 - accuracy: 0.8945 - val_loss: 0.3248 - val_accuracy: 0.8820\n",
      "Epoch 17/30\n",
      "1719/1719 [==============================] - 8s 4ms/step - loss: 0.2859 - accuracy: 0.8966 - val_loss: 0.3357 - val_accuracy: 0.8780\n",
      "Epoch 18/30\n",
      "1719/1719 [==============================] - 7s 4ms/step - loss: 0.2800 - accuracy: 0.8994 - val_loss: 0.3293 - val_accuracy: 0.8814\n",
      "Epoch 19/30\n",
      "1719/1719 [==============================] - 6s 3ms/step - loss: 0.2747 - accuracy: 0.9014 - val_loss: 0.3076 - val_accuracy: 0.8880\n",
      "Epoch 20/30\n",
      "1719/1719 [==============================] - 7s 4ms/step - loss: 0.2687 - accuracy: 0.9031 - val_loss: 0.3260 - val_accuracy: 0.8814\n",
      "Epoch 21/30\n",
      "1719/1719 [==============================] - 6s 4ms/step - loss: 0.2642 - accuracy: 0.9049 - val_loss: 0.3130 - val_accuracy: 0.8882\n",
      "Epoch 22/30\n",
      "1719/1719 [==============================] - 7s 4ms/step - loss: 0.2591 - accuracy: 0.9059 - val_loss: 0.3079 - val_accuracy: 0.8890\n",
      "Epoch 23/30\n",
      "1719/1719 [==============================] - 7s 4ms/step - loss: 0.2549 - accuracy: 0.9087 - val_loss: 0.3069 - val_accuracy: 0.8924\n",
      "Epoch 24/30\n",
      "1719/1719 [==============================] - 6s 3ms/step - loss: 0.2504 - accuracy: 0.9102 - val_loss: 0.3069 - val_accuracy: 0.8912\n",
      "Epoch 25/30\n",
      "1719/1719 [==============================] - 6s 3ms/step - loss: 0.2470 - accuracy: 0.9100 - val_loss: 0.2995 - val_accuracy: 0.8916\n",
      "Epoch 26/30\n",
      "1719/1719 [==============================] - 6s 3ms/step - loss: 0.2423 - accuracy: 0.9126 - val_loss: 0.3040 - val_accuracy: 0.8928\n",
      "Epoch 27/30\n",
      "1719/1719 [==============================] - 6s 3ms/step - loss: 0.2380 - accuracy: 0.9138 - val_loss: 0.3081 - val_accuracy: 0.8914\n",
      "Epoch 28/30\n",
      "1719/1719 [==============================] - 5s 3ms/step - loss: 0.2335 - accuracy: 0.9170 - val_loss: 0.3033 - val_accuracy: 0.8904\n",
      "Epoch 29/30\n",
      "1719/1719 [==============================] - 6s 3ms/step - loss: 0.2306 - accuracy: 0.9174 - val_loss: 0.3095 - val_accuracy: 0.8880\n",
      "Epoch 30/30\n",
      "1719/1719 [==============================] - 6s 3ms/step - loss: 0.2271 - accuracy: 0.9186 - val_loss: 0.3178 - val_accuracy: 0.8880\n"
     ]
    }
   ],
   "source": [
    "import os\n",
    "\n",
    "root_logdir = os.path.join(os.curdir, \"my_logs\")\n",
    "\n",
    "\n",
    "def get_run_logdir():\n",
    "    import time\n",
    "    run_id = time.strftime(\"run_%Y_%m_%d-%H_%M_%S\")\n",
    "    return os.path.join(root_logdir, run_id)\n",
    "\n",
    "\n",
    "run_log_dir = get_run_logdir()\n",
    "tensorboard_cb = keras.callbacks.TensorBoard(run_log_dir)\n",
    "history = model.fit(X_train, y_train, epochs=30, validation_data=(X_valid, y_valid), callbacks=[tensorboard_cb])"
   ],
   "metadata": {
    "collapsed": false,
    "ExecuteTime": {
     "end_time": "2023-11-07T10:43:58.041063Z",
     "start_time": "2023-11-07T10:40:21.774435Z"
    }
   },
   "id": "d046d650af5c4cb7"
  },
  {
   "cell_type": "code",
   "execution_count": 8,
   "outputs": [
    {
     "name": "stderr",
     "output_type": "stream",
     "text": [
      "/Users/noble/Documents/GitHub/Hands-on-ml/venv/lib/python3.10/site-packages/matplotlib/_tight_bbox.py:67: RuntimeWarning: divide by zero encountered in scalar divide\n",
      "  fig.patch.set_bounds(x0 / w1, y0 / h1,\n",
      "/Users/noble/Documents/GitHub/Hands-on-ml/venv/lib/python3.10/site-packages/matplotlib/_tight_bbox.py:68: RuntimeWarning: divide by zero encountered in scalar divide\n",
      "  fig.bbox.width / w1, fig.bbox.height / h1)\n",
      "/Users/noble/Documents/GitHub/Hands-on-ml/venv/lib/python3.10/site-packages/matplotlib/patches.py:742: RuntimeWarning: invalid value encountered in scalar add\n",
      "  x1 = self.convert_xunits(self._x0 + self._width)\n",
      "/Users/noble/Documents/GitHub/Hands-on-ml/venv/lib/python3.10/site-packages/matplotlib/transforms.py:2038: RuntimeWarning: invalid value encountered in scalar add\n",
      "  self._mtx[0, 2] += tx\n"
     ]
    },
    {
     "data": {
      "text/plain": "<Figure size 0x500 with 1 Axes>",
      "image/png": "[encoded data removed]"
     },
     "metadata": {},
     "output_type": "display_data"
    }
   ],
   "source": [
    "import pandas as pd\n",
    "import matplotlib.pyplot as plt\n",
    "\n",
    "pd.DataFrame(history.history).plot(figsize=(0, 5))\n",
    "plt.grid(True)\n",
    "plt.gca().set_ylim(0, 1)\n",
    "plt.show()"
   ],
   "metadata": {
    "collapsed": false,
    "ExecuteTime": {
     "end_time": "2023-11-07T10:43:59.198625Z",
     "start_time": "2023-11-07T10:43:58.045186Z"
    }
   },
   "id": "8c177d03d2001c92"
  }
 ],
 "metadata": {
  "kernelspec": {
   "display_name": "Python 3",
   "language": "python",
   "name": "python3"
  },
  "language_info": {
   "codemirror_mode": {
    "name": "ipython",
    "version": 2
   },
   "file_extension": ".py",
   "mimetype": "text/x-python",
   "name": "python",
   "nbconvert_exporter": "python",
   "pygments_lexer": "ipython2",
   "version": "2.7.6"
  }
 },
 "nbformat": 4,
 "nbformat_minor": 5
}
