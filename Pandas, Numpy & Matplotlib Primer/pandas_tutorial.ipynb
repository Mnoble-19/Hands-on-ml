{
 "cells": [
  {
   "cell_type": "markdown",
   "source": [
    "# Personal Pandas tutorial"
   ],
   "metadata": {
    "collapsed": false,
    "pycharm": {
     "name": "#%% md\n"
    }
   }
  },
  {
   "cell_type": "markdown",
   "source": [
    "## Loading data into Pandas\n",
    "* One can load other formats, besides CSV\n",
    "* Chunksize for massive datasets"
   ],
   "metadata": {
    "collapsed": false,
    "pycharm": {
     "name": "#%% md\n"
    }
   }
  },
  {
   "cell_type": "code",
   "execution_count": 3,
   "outputs": [],
   "source": [
    "import pandas as pd\n",
    "\n",
    "df = pd.read_csv('pokemon_data.csv')\n",
    "df_xls = pd.read_excel('pokemon_data.xlsx')"
   ],
   "metadata": {
    "collapsed": false,
    "pycharm": {
     "name": "#%%\n"
    }
   }
  },
  {
   "cell_type": "code",
   "execution_count": 4,
   "outputs": [
    {
     "data": {
      "text/plain": "   #                   Name Type 1  Type 2  HP  Attack  Defense  Sp. Atk  \\\n0  1              Bulbasaur  Grass  Poison  45      49       49       65   \n1  2                Ivysaur  Grass  Poison  60      62       63       80   \n2  3               Venusaur  Grass  Poison  80      82       83      100   \n3  3  VenusaurMega Venusaur  Grass  Poison  80     100      123      122   \n\n   Sp. Def  Speed  Generation  Legendary  \n0       65     45           1      False  \n1       80     60           1      False  \n2      100     80           1      False  \n3      120     80           1      False  ",
      "text/html": "<div>\n<style scoped>\n    .dataframe tbody tr th:only-of-type {\n        vertical-align: middle;\n    }\n\n    .dataframe tbody tr th {\n        vertical-align: top;\n    }\n\n    .dataframe thead th {\n        text-align: right;\n    }\n</style>\n<table border=\"1\" class=\"dataframe\">\n  <thead>\n    <tr style=\"text-align: right;\">\n      <th></th>\n      <th>#</th>\n      <th>Name</th>\n      <th>Type 1</th>\n      <th>Type 2</th>\n      <th>HP</th>\n      <th>Attack</th>\n      <th>Defense</th>\n      <th>Sp. Atk</th>\n      <th>Sp. Def</th>\n      <th>Speed</th>\n      <th>Generation</th>\n      <th>Legendary</th>\n    </tr>\n  </thead>\n  <tbody>\n    <tr>\n      <th>0</th>\n      <td>1</td>\n      <td>Bulbasaur</td>\n      <td>Grass</td>\n      <td>Poison</td>\n      <td>45</td>\n      <td>49</td>\n      <td>49</td>\n      <td>65</td>\n      <td>65</td>\n      <td>45</td>\n      <td>1</td>\n      <td>False</td>\n    </tr>\n    <tr>\n      <th>1</th>\n      <td>2</td>\n      <td>Ivysaur</td>\n      <td>Grass</td>\n      <td>Poison</td>\n      <td>60</td>\n      <td>62</td>\n      <td>63</td>\n      <td>80</td>\n      <td>80</td>\n      <td>60</td>\n      <td>1</td>\n      <td>False</td>\n    </tr>\n    <tr>\n      <th>2</th>\n      <td>3</td>\n      <td>Venusaur</td>\n      <td>Grass</td>\n      <td>Poison</td>\n      <td>80</td>\n      <td>82</td>\n      <td>83</td>\n      <td>100</td>\n      <td>100</td>\n      <td>80</td>\n      <td>1</td>\n      <td>False</td>\n    </tr>\n    <tr>\n      <th>3</th>\n      <td>3</td>\n      <td>VenusaurMega Venusaur</td>\n      <td>Grass</td>\n      <td>Poison</td>\n      <td>80</td>\n      <td>100</td>\n      <td>123</td>\n      <td>122</td>\n      <td>120</td>\n      <td>80</td>\n      <td>1</td>\n      <td>False</td>\n    </tr>\n  </tbody>\n</table>\n</div>"
     },
     "execution_count": 4,
     "metadata": {},
     "output_type": "execute_result"
    }
   ],
   "source": [
    "df.head(4)"
   ],
   "metadata": {
    "collapsed": false,
    "pycharm": {
     "name": "#%%\n"
    }
   }
  },
  {
   "cell_type": "markdown",
   "source": [
    " ## Reading data in Pandas\n",
    "* Reading the headers of the columns - use .columns\n",
    "* Reading a column - use square braces\n",
    "* Reading a row - use iloc\n",
    "* For a specific value, use comma with iloc\n",
    "* also use loc mostly for text like data"
   ],
   "metadata": {
    "collapsed": false,
    "pycharm": {
     "name": "#%% md\n"
    }
   }
  },
  {
   "cell_type": "code",
   "execution_count": 5,
   "outputs": [
    {
     "name": "stdout",
     "output_type": "stream",
     "text": [
      "Index(['#', 'Name', 'Type 1', 'Type 2', 'HP', 'Attack', 'Defense', 'Sp. Atk',\n",
      "       'Sp. Def', 'Speed', 'Generation', 'Legendary'],\n",
      "      dtype='object')\n"
     ]
    }
   ],
   "source": [
    "print(df.columns)"
   ],
   "metadata": {
    "collapsed": false,
    "pycharm": {
     "name": "#%%\n"
    }
   }
  },
  {
   "cell_type": "code",
   "execution_count": 8,
   "outputs": [
    {
     "name": "stdout",
     "output_type": "stream",
     "text": [
      "                      Name  Attack\n",
      "0                Bulbasaur      49\n",
      "1                  Ivysaur      62\n",
      "2                 Venusaur      82\n",
      "3    VenusaurMega Venusaur     100\n",
      "4               Charmander      52\n",
      "..                     ...     ...\n",
      "795                Diancie     100\n",
      "796    DiancieMega Diancie     160\n",
      "797    HoopaHoopa Confined     110\n",
      "798     HoopaHoopa Unbound     160\n",
      "799              Volcanion     110\n",
      "\n",
      "[800 rows x 2 columns]\n",
      "   #                   Name Type 1  Type 2  HP  Attack  Defense  Sp. Atk  \\\n",
      "1  2                Ivysaur  Grass  Poison  60      62       63       80   \n",
      "2  3               Venusaur  Grass  Poison  80      82       83      100   \n",
      "3  3  VenusaurMega Venusaur  Grass  Poison  80     100      123      122   \n",
      "\n",
      "   Sp. Def  Speed  Generation  Legendary  \n",
      "1       80     60           1      False  \n",
      "2      100     80           1      False  \n",
      "3      120     80           1      False  \n"
     ]
    }
   ],
   "source": [
    "print(df[['Name', 'Attack']])"
   ],
   "metadata": {
    "collapsed": false,
    "pycharm": {
     "name": "#%%\n"
    }
   }
  },
  {
   "cell_type": "code",
   "execution_count": 10,
   "outputs": [
    {
     "name": "stdout",
     "output_type": "stream",
     "text": [
      "   #      Name Type 1  Type 2  HP  Attack  Defense  Sp. Atk  Sp. Def  Speed  \\\n",
      "1  2   Ivysaur  Grass  Poison  60      62       63       80       80     60   \n",
      "2  3  Venusaur  Grass  Poison  80      82       83      100      100     80   \n",
      "\n",
      "   Generation  Legendary  \n",
      "1           1      False  \n",
      "2           1      False  \n"
     ]
    }
   ],
   "source": [
    "print(df.iloc[1:3])"
   ],
   "metadata": {
    "collapsed": false,
    "pycharm": {
     "name": "#%%\n"
    }
   }
  },
  {
   "cell_type": "code",
   "execution_count": 12,
   "outputs": [
    {
     "name": "stdout",
     "output_type": "stream",
     "text": [
      "   #                   Name Type 1  Type 2\n",
      "0  1              Bulbasaur  Grass  Poison\n",
      "1  2                Ivysaur  Grass  Poison\n",
      "2  3               Venusaur  Grass  Poison\n",
      "3  3  VenusaurMega Venusaur  Grass  Poison\n"
     ]
    }
   ],
   "source": [
    "print(df.iloc[0:4,0:4])"
   ],
   "metadata": {
    "collapsed": false,
    "pycharm": {
     "name": "#%%\n"
    }
   }
  },
  {
   "cell_type": "code",
   "execution_count": 13,
   "outputs": [
    {
     "name": "stdout",
     "output_type": "stream",
     "text": [
      "       #                       Name Type 1    Type 2   HP  Attack  Defense  \\\n",
      "4      4                 Charmander   Fire       NaN   39      52       43   \n",
      "5      5                 Charmeleon   Fire       NaN   58      64       58   \n",
      "6      6                  Charizard   Fire    Flying   78      84       78   \n",
      "7      6  CharizardMega Charizard X   Fire    Dragon   78     130      111   \n",
      "8      6  CharizardMega Charizard Y   Fire    Flying   78     104       78   \n",
      "42    37                     Vulpix   Fire       NaN   38      41       40   \n",
      "43    38                  Ninetales   Fire       NaN   73      76       75   \n",
      "63    58                  Growlithe   Fire       NaN   55      70       45   \n",
      "64    59                   Arcanine   Fire       NaN   90     110       80   \n",
      "83    77                     Ponyta   Fire       NaN   50      85       55   \n",
      "84    78                   Rapidash   Fire       NaN   65     100       70   \n",
      "135  126                     Magmar   Fire       NaN   65      95       57   \n",
      "147  136                    Flareon   Fire       NaN   65     130       60   \n",
      "158  146                    Moltres   Fire    Flying   90     100       90   \n",
      "169  155                  Cyndaquil   Fire       NaN   39      52       43   \n",
      "170  156                    Quilava   Fire       NaN   58      64       58   \n",
      "171  157                 Typhlosion   Fire       NaN   78      84       78   \n",
      "236  218                     Slugma   Fire       NaN   40      40       40   \n",
      "237  219                   Magcargo   Fire      Rock   50      50      120   \n",
      "259  240                      Magby   Fire       NaN   45      75       37   \n",
      "263  244                      Entei   Fire       NaN  115     115       85   \n",
      "270  250                      Ho-oh   Fire    Flying  106     130       90   \n",
      "276  255                    Torchic   Fire       NaN   45      60       40   \n",
      "277  256                  Combusken   Fire  Fighting   60      85       60   \n",
      "278  257                   Blaziken   Fire  Fighting   80     120       70   \n",
      "279  257      BlazikenMega Blaziken   Fire  Fighting   80     160       80   \n",
      "352  322                      Numel   Fire    Ground   60      60       40   \n",
      "353  323                   Camerupt   Fire    Ground   70     100       70   \n",
      "354  323      CameruptMega Camerupt   Fire    Ground   70     120      100   \n",
      "355  324                    Torkoal   Fire       NaN   70      85      140   \n",
      "435  390                   Chimchar   Fire       NaN   44      58       44   \n",
      "436  391                   Monferno   Fire  Fighting   64      78       52   \n",
      "437  392                  Infernape   Fire  Fighting   76     104       71   \n",
      "518  467                  Magmortar   Fire       NaN   75      95       67   \n",
      "542  485                    Heatran   Fire     Steel   91      90      106   \n",
      "557  498                      Tepig   Fire       NaN   65      63       45   \n",
      "558  499                    Pignite   Fire  Fighting   90      93       55   \n",
      "559  500                     Emboar   Fire  Fighting  110     123       65   \n",
      "572  513                    Pansear   Fire       NaN   50      53       48   \n",
      "573  514                   Simisear   Fire       NaN   75      98       63   \n",
      "614  554                   Darumaka   Fire       NaN   70      90       45   \n",
      "615  555    DarmanitanStandard Mode   Fire       NaN  105     140       55   \n",
      "616  555         DarmanitanZen Mode   Fire   Psychic  105      30      105   \n",
      "692  631                    Heatmor   Fire       NaN   85      97       66   \n",
      "721  653                   Fennekin   Fire       NaN   40      45       40   \n",
      "722  654                    Braixen   Fire       NaN   59      59       58   \n",
      "723  655                    Delphox   Fire   Psychic   75      69       72   \n",
      "730  662                Fletchinder   Fire    Flying   62      73       55   \n",
      "731  663                 Talonflame   Fire    Flying   78      81       71   \n",
      "735  667                     Litleo   Fire    Normal   62      50       58   \n",
      "736  668                     Pyroar   Fire    Normal   86      68       72   \n",
      "799  721                  Volcanion   Fire     Water   80     110      120   \n",
      "\n",
      "     Sp. Atk  Sp. Def  Speed  Generation  Legendary  \n",
      "4         60       50     65           1      False  \n",
      "5         80       65     80           1      False  \n",
      "6        109       85    100           1      False  \n",
      "7        130       85    100           1      False  \n",
      "8        159      115    100           1      False  \n",
      "42        50       65     65           1      False  \n",
      "43        81      100    100           1      False  \n",
      "63        70       50     60           1      False  \n",
      "64       100       80     95           1      False  \n",
      "83        65       65     90           1      False  \n",
      "84        80       80    105           1      False  \n",
      "135      100       85     93           1      False  \n",
      "147       95      110     65           1      False  \n",
      "158      125       85     90           1       True  \n",
      "169       60       50     65           2      False  \n",
      "170       80       65     80           2      False  \n",
      "171      109       85    100           2      False  \n",
      "236       70       40     20           2      False  \n",
      "237       80       80     30           2      False  \n",
      "259       70       55     83           2      False  \n",
      "263       90       75    100           2       True  \n",
      "270      110      154     90           2       True  \n",
      "276       70       50     45           3      False  \n",
      "277       85       60     55           3      False  \n",
      "278      110       70     80           3      False  \n",
      "279      130       80    100           3      False  \n",
      "352       65       45     35           3      False  \n",
      "353      105       75     40           3      False  \n",
      "354      145      105     20           3      False  \n",
      "355       85       70     20           3      False  \n",
      "435       58       44     61           4      False  \n",
      "436       78       52     81           4      False  \n",
      "437      104       71    108           4      False  \n",
      "518      125       95     83           4      False  \n",
      "542      130      106     77           4       True  \n",
      "557       45       45     45           5      False  \n",
      "558       70       55     55           5      False  \n",
      "559      100       65     65           5      False  \n",
      "572       53       48     64           5      False  \n",
      "573       98       63    101           5      False  \n",
      "614       15       45     50           5      False  \n",
      "615       30       55     95           5      False  \n",
      "616      140      105     55           5      False  \n",
      "692      105       66     65           5      False  \n",
      "721       62       60     60           6      False  \n",
      "722       90       70     73           6      False  \n",
      "723      114      100    104           6      False  \n",
      "730       56       52     84           6      False  \n",
      "731       74       69    126           6      False  \n",
      "735       73       54     72           6      False  \n",
      "736      109       66    106           6      False  \n",
      "799      130       90     70           6       True  \n"
     ]
    }
   ],
   "source": [
    "print(df.loc[df['Type 1'] == 'Fire'])"
   ],
   "metadata": {
    "collapsed": false,
    "pycharm": {
     "name": "#%%\n"
    }
   }
  },
  {
   "cell_type": "markdown",
   "source": [
    "## Sorting/describing the data\n",
    "* describe()\n",
    "* sort_values([header_to_sort_by, order])"
   ],
   "metadata": {
    "collapsed": false,
    "pycharm": {
     "name": "#%% md\n"
    }
   }
  },
  {
   "cell_type": "code",
   "execution_count": 14,
   "outputs": [
    {
     "data": {
      "text/plain": "                #          HP      Attack     Defense     Sp. Atk     Sp. Def  \\\ncount  800.000000  800.000000  800.000000  800.000000  800.000000  800.000000   \nmean   362.813750   69.258750   79.001250   73.842500   72.820000   71.902500   \nstd    208.343798   25.534669   32.457366   31.183501   32.722294   27.828916   \nmin      1.000000    1.000000    5.000000    5.000000   10.000000   20.000000   \n25%    184.750000   50.000000   55.000000   50.000000   49.750000   50.000000   \n50%    364.500000   65.000000   75.000000   70.000000   65.000000   70.000000   \n75%    539.250000   80.000000  100.000000   90.000000   95.000000   90.000000   \nmax    721.000000  255.000000  190.000000  230.000000  194.000000  230.000000   \n\n            Speed  Generation  \ncount  800.000000   800.00000  \nmean    68.277500     3.32375  \nstd     29.060474     1.66129  \nmin      5.000000     1.00000  \n25%     45.000000     2.00000  \n50%     65.000000     3.00000  \n75%     90.000000     5.00000  \nmax    180.000000     6.00000  ",
      "text/html": "<div>\n<style scoped>\n    .dataframe tbody tr th:only-of-type {\n        vertical-align: middle;\n    }\n\n    .dataframe tbody tr th {\n        vertical-align: top;\n    }\n\n    .dataframe thead th {\n        text-align: right;\n    }\n</style>\n<table border=\"1\" class=\"dataframe\">\n  <thead>\n    <tr style=\"text-align: right;\">\n      <th></th>\n      <th>#</th>\n      <th>HP</th>\n      <th>Attack</th>\n      <th>Defense</th>\n      <th>Sp. Atk</th>\n      <th>Sp. Def</th>\n      <th>Speed</th>\n      <th>Generation</th>\n    </tr>\n  </thead>\n  <tbody>\n    <tr>\n      <th>count</th>\n      <td>800.000000</td>\n      <td>800.000000</td>\n      <td>800.000000</td>\n      <td>800.000000</td>\n      <td>800.000000</td>\n      <td>800.000000</td>\n      <td>800.000000</td>\n      <td>800.00000</td>\n    </tr>\n    <tr>\n      <th>mean</th>\n      <td>362.813750</td>\n      <td>69.258750</td>\n      <td>79.001250</td>\n      <td>73.842500</td>\n      <td>72.820000</td>\n      <td>71.902500</td>\n      <td>68.277500</td>\n      <td>3.32375</td>\n    </tr>\n    <tr>\n      <th>std</th>\n      <td>208.343798</td>\n      <td>25.534669</td>\n      <td>32.457366</td>\n      <td>31.183501</td>\n      <td>32.722294</td>\n      <td>27.828916</td>\n      <td>29.060474</td>\n      <td>1.66129</td>\n    </tr>\n    <tr>\n      <th>min</th>\n      <td>1.000000</td>\n      <td>1.000000</td>\n      <td>5.000000</td>\n      <td>5.000000</td>\n      <td>10.000000</td>\n      <td>20.000000</td>\n      <td>5.000000</td>\n      <td>1.00000</td>\n    </tr>\n    <tr>\n      <th>25%</th>\n      <td>184.750000</td>\n      <td>50.000000</td>\n      <td>55.000000</td>\n      <td>50.000000</td>\n      <td>49.750000</td>\n      <td>50.000000</td>\n      <td>45.000000</td>\n      <td>2.00000</td>\n    </tr>\n    <tr>\n      <th>50%</th>\n      <td>364.500000</td>\n      <td>65.000000</td>\n      <td>75.000000</td>\n      <td>70.000000</td>\n      <td>65.000000</td>\n      <td>70.000000</td>\n      <td>65.000000</td>\n      <td>3.00000</td>\n    </tr>\n    <tr>\n      <th>75%</th>\n      <td>539.250000</td>\n      <td>80.000000</td>\n      <td>100.000000</td>\n      <td>90.000000</td>\n      <td>95.000000</td>\n      <td>90.000000</td>\n      <td>90.000000</td>\n      <td>5.00000</td>\n    </tr>\n    <tr>\n      <th>max</th>\n      <td>721.000000</td>\n      <td>255.000000</td>\n      <td>190.000000</td>\n      <td>230.000000</td>\n      <td>194.000000</td>\n      <td>230.000000</td>\n      <td>180.000000</td>\n      <td>6.00000</td>\n    </tr>\n  </tbody>\n</table>\n</div>"
     },
     "execution_count": 14,
     "metadata": {},
     "output_type": "execute_result"
    }
   ],
   "source": [
    "df.describe()"
   ],
   "metadata": {
    "collapsed": false,
    "pycharm": {
     "name": "#%%\n"
    }
   }
  },
  {
   "cell_type": "code",
   "execution_count": 15,
   "outputs": [
    {
     "data": {
      "text/plain": "       #       Name Type 1  Type 2   HP  Attack  Defense  Sp. Atk  Sp. Def  \\\n316  292   Shedinja    Bug   Ghost    1      90       45       30       30   \n230  213    Shuckle    Bug    Rock   20      10      230       10      230   \n462  415     Combee    Bug  Flying   30      30       42       30       42   \n603  543   Venipede    Bug  Poison   30      45       59       30       39   \n314  290    Nincada    Bug  Ground   31      45       90       30       30   \n..   ...        ...    ...     ...  ...     ...      ...      ...      ...   \n142  131     Lapras  Water     Ice  130      85       80       85       95   \n145  134   Vaporeon  Water     NaN  130      65       60      110       95   \n350  320    Wailmer  Water     NaN  130      70       35       70       35   \n655  594  Alomomola  Water     NaN  165      75       80       40       45   \n351  321    Wailord  Water     NaN  170      90       45       90       45   \n\n     Speed  Generation  Legendary  \n316     40           3      False  \n230      5           2      False  \n462     70           4      False  \n603     57           5      False  \n314     40           3      False  \n..     ...         ...        ...  \n142     60           1      False  \n145     65           1      False  \n350     60           3      False  \n655     65           5      False  \n351     60           3      False  \n\n[800 rows x 12 columns]",
      "text/html": "<div>\n<style scoped>\n    .dataframe tbody tr th:only-of-type {\n        vertical-align: middle;\n    }\n\n    .dataframe tbody tr th {\n        vertical-align: top;\n    }\n\n    .dataframe thead th {\n        text-align: right;\n    }\n</style>\n<table border=\"1\" class=\"dataframe\">\n  <thead>\n    <tr style=\"text-align: right;\">\n      <th></th>\n      <th>#</th>\n      <th>Name</th>\n      <th>Type 1</th>\n      <th>Type 2</th>\n      <th>HP</th>\n      <th>Attack</th>\n      <th>Defense</th>\n      <th>Sp. Atk</th>\n      <th>Sp. Def</th>\n      <th>Speed</th>\n      <th>Generation</th>\n      <th>Legendary</th>\n    </tr>\n  </thead>\n  <tbody>\n    <tr>\n      <th>316</th>\n      <td>292</td>\n      <td>Shedinja</td>\n      <td>Bug</td>\n      <td>Ghost</td>\n      <td>1</td>\n      <td>90</td>\n      <td>45</td>\n      <td>30</td>\n      <td>30</td>\n      <td>40</td>\n      <td>3</td>\n      <td>False</td>\n    </tr>\n    <tr>\n      <th>230</th>\n      <td>213</td>\n      <td>Shuckle</td>\n      <td>Bug</td>\n      <td>Rock</td>\n      <td>20</td>\n      <td>10</td>\n      <td>230</td>\n      <td>10</td>\n      <td>230</td>\n      <td>5</td>\n      <td>2</td>\n      <td>False</td>\n    </tr>\n    <tr>\n      <th>462</th>\n      <td>415</td>\n      <td>Combee</td>\n      <td>Bug</td>\n      <td>Flying</td>\n      <td>30</td>\n      <td>30</td>\n      <td>42</td>\n      <td>30</td>\n      <td>42</td>\n      <td>70</td>\n      <td>4</td>\n      <td>False</td>\n    </tr>\n    <tr>\n      <th>603</th>\n      <td>543</td>\n      <td>Venipede</td>\n      <td>Bug</td>\n      <td>Poison</td>\n      <td>30</td>\n      <td>45</td>\n      <td>59</td>\n      <td>30</td>\n      <td>39</td>\n      <td>57</td>\n      <td>5</td>\n      <td>False</td>\n    </tr>\n    <tr>\n      <th>314</th>\n      <td>290</td>\n      <td>Nincada</td>\n      <td>Bug</td>\n      <td>Ground</td>\n      <td>31</td>\n      <td>45</td>\n      <td>90</td>\n      <td>30</td>\n      <td>30</td>\n      <td>40</td>\n      <td>3</td>\n      <td>False</td>\n    </tr>\n    <tr>\n      <th>...</th>\n      <td>...</td>\n      <td>...</td>\n      <td>...</td>\n      <td>...</td>\n      <td>...</td>\n      <td>...</td>\n      <td>...</td>\n      <td>...</td>\n      <td>...</td>\n      <td>...</td>\n      <td>...</td>\n      <td>...</td>\n    </tr>\n    <tr>\n      <th>142</th>\n      <td>131</td>\n      <td>Lapras</td>\n      <td>Water</td>\n      <td>Ice</td>\n      <td>130</td>\n      <td>85</td>\n      <td>80</td>\n      <td>85</td>\n      <td>95</td>\n      <td>60</td>\n      <td>1</td>\n      <td>False</td>\n    </tr>\n    <tr>\n      <th>145</th>\n      <td>134</td>\n      <td>Vaporeon</td>\n      <td>Water</td>\n      <td>NaN</td>\n      <td>130</td>\n      <td>65</td>\n      <td>60</td>\n      <td>110</td>\n      <td>95</td>\n      <td>65</td>\n      <td>1</td>\n      <td>False</td>\n    </tr>\n    <tr>\n      <th>350</th>\n      <td>320</td>\n      <td>Wailmer</td>\n      <td>Water</td>\n      <td>NaN</td>\n      <td>130</td>\n      <td>70</td>\n      <td>35</td>\n      <td>70</td>\n      <td>35</td>\n      <td>60</td>\n      <td>3</td>\n      <td>False</td>\n    </tr>\n    <tr>\n      <th>655</th>\n      <td>594</td>\n      <td>Alomomola</td>\n      <td>Water</td>\n      <td>NaN</td>\n      <td>165</td>\n      <td>75</td>\n      <td>80</td>\n      <td>40</td>\n      <td>45</td>\n      <td>65</td>\n      <td>5</td>\n      <td>False</td>\n    </tr>\n    <tr>\n      <th>351</th>\n      <td>321</td>\n      <td>Wailord</td>\n      <td>Water</td>\n      <td>NaN</td>\n      <td>170</td>\n      <td>90</td>\n      <td>45</td>\n      <td>90</td>\n      <td>45</td>\n      <td>60</td>\n      <td>3</td>\n      <td>False</td>\n    </tr>\n  </tbody>\n</table>\n<p>800 rows × 12 columns</p>\n</div>"
     },
     "execution_count": 15,
     "metadata": {},
     "output_type": "execute_result"
    }
   ],
   "source": [
    "df.sort_values(['Type 1', 'HP'], ascending= True)"
   ],
   "metadata": {
    "collapsed": false,
    "pycharm": {
     "name": "#%%\n"
    }
   }
  },
  {
   "cell_type": "markdown",
   "source": [
    "## Making changes to the data\n",
    "* E.g adding a new column summing up stats"
   ],
   "metadata": {
    "collapsed": false,
    "pycharm": {
     "name": "#%% md\n"
    }
   }
  },
  {
   "cell_type": "code",
   "execution_count": 17,
   "outputs": [
    {
     "data": {
      "text/plain": "   #                   Name Type 1  Type 2  HP  Attack  Defense  Sp. Atk  \\\n0  1              Bulbasaur  Grass  Poison  45      49       49       65   \n1  2                Ivysaur  Grass  Poison  60      62       63       80   \n2  3               Venusaur  Grass  Poison  80      82       83      100   \n3  3  VenusaurMega Venusaur  Grass  Poison  80     100      123      122   \n4  4             Charmander   Fire     NaN  39      52       43       60   \n\n   Sp. Def  Speed  Generation  Legendary  Total  \n0       65     45           1      False    273  \n1       80     60           1      False    345  \n2      100     80           1      False    445  \n3      120     80           1      False    545  \n4       50     65           1      False    244  ",
      "text/html": "<div>\n<style scoped>\n    .dataframe tbody tr th:only-of-type {\n        vertical-align: middle;\n    }\n\n    .dataframe tbody tr th {\n        vertical-align: top;\n    }\n\n    .dataframe thead th {\n        text-align: right;\n    }\n</style>\n<table border=\"1\" class=\"dataframe\">\n  <thead>\n    <tr style=\"text-align: right;\">\n      <th></th>\n      <th>#</th>\n      <th>Name</th>\n      <th>Type 1</th>\n      <th>Type 2</th>\n      <th>HP</th>\n      <th>Attack</th>\n      <th>Defense</th>\n      <th>Sp. Atk</th>\n      <th>Sp. Def</th>\n      <th>Speed</th>\n      <th>Generation</th>\n      <th>Legendary</th>\n      <th>Total</th>\n    </tr>\n  </thead>\n  <tbody>\n    <tr>\n      <th>0</th>\n      <td>1</td>\n      <td>Bulbasaur</td>\n      <td>Grass</td>\n      <td>Poison</td>\n      <td>45</td>\n      <td>49</td>\n      <td>49</td>\n      <td>65</td>\n      <td>65</td>\n      <td>45</td>\n      <td>1</td>\n      <td>False</td>\n      <td>273</td>\n    </tr>\n    <tr>\n      <th>1</th>\n      <td>2</td>\n      <td>Ivysaur</td>\n      <td>Grass</td>\n      <td>Poison</td>\n      <td>60</td>\n      <td>62</td>\n      <td>63</td>\n      <td>80</td>\n      <td>80</td>\n      <td>60</td>\n      <td>1</td>\n      <td>False</td>\n      <td>345</td>\n    </tr>\n    <tr>\n      <th>2</th>\n      <td>3</td>\n      <td>Venusaur</td>\n      <td>Grass</td>\n      <td>Poison</td>\n      <td>80</td>\n      <td>82</td>\n      <td>83</td>\n      <td>100</td>\n      <td>100</td>\n      <td>80</td>\n      <td>1</td>\n      <td>False</td>\n      <td>445</td>\n    </tr>\n    <tr>\n      <th>3</th>\n      <td>3</td>\n      <td>VenusaurMega Venusaur</td>\n      <td>Grass</td>\n      <td>Poison</td>\n      <td>80</td>\n      <td>100</td>\n      <td>123</td>\n      <td>122</td>\n      <td>120</td>\n      <td>80</td>\n      <td>1</td>\n      <td>False</td>\n      <td>545</td>\n    </tr>\n    <tr>\n      <th>4</th>\n      <td>4</td>\n      <td>Charmander</td>\n      <td>Fire</td>\n      <td>NaN</td>\n      <td>39</td>\n      <td>52</td>\n      <td>43</td>\n      <td>60</td>\n      <td>50</td>\n      <td>65</td>\n      <td>1</td>\n      <td>False</td>\n      <td>244</td>\n    </tr>\n  </tbody>\n</table>\n</div>"
     },
     "execution_count": 17,
     "metadata": {},
     "output_type": "execute_result"
    }
   ],
   "source": [
    "df['Total'] = df.iloc[:,4:9].sum(axis = 1)\n",
    "\n",
    "df.head(5)"
   ],
   "metadata": {
    "collapsed": false,
    "pycharm": {
     "name": "#%%\n"
    }
   }
  },
  {
   "cell_type": "code",
   "execution_count": 22,
   "outputs": [
    {
     "data": {
      "text/plain": "   #       Name Type 1  Type 2  HP  Attack  Defense  Sp. Atk  Sp. Def  Speed  \\\n0  1  Bulbasaur  Grass  Poison  44      49       49       65       65     45   \n1  2    Ivysaur  Grass  Poison  60      62       63       80       80     60   \n2  3   Venusaur  Grass  Poison  80      82       83      100      100     80   \n\n   Generation  Legendary  Total  \n0           1      False    273  \n1           1      False    345  \n2           1      False    445  ",
      "text/html": "<div>\n<style scoped>\n    .dataframe tbody tr th:only-of-type {\n        vertical-align: middle;\n    }\n\n    .dataframe tbody tr th {\n        vertical-align: top;\n    }\n\n    .dataframe thead th {\n        text-align: right;\n    }\n</style>\n<table border=\"1\" class=\"dataframe\">\n  <thead>\n    <tr style=\"text-align: right;\">\n      <th></th>\n      <th>#</th>\n      <th>Name</th>\n      <th>Type 1</th>\n      <th>Type 2</th>\n      <th>HP</th>\n      <th>Attack</th>\n      <th>Defense</th>\n      <th>Sp. Atk</th>\n      <th>Sp. Def</th>\n      <th>Speed</th>\n      <th>Generation</th>\n      <th>Legendary</th>\n      <th>Total</th>\n    </tr>\n  </thead>\n  <tbody>\n    <tr>\n      <th>0</th>\n      <td>1</td>\n      <td>Bulbasaur</td>\n      <td>Grass</td>\n      <td>Poison</td>\n      <td>44</td>\n      <td>49</td>\n      <td>49</td>\n      <td>65</td>\n      <td>65</td>\n      <td>45</td>\n      <td>1</td>\n      <td>False</td>\n      <td>273</td>\n    </tr>\n    <tr>\n      <th>1</th>\n      <td>2</td>\n      <td>Ivysaur</td>\n      <td>Grass</td>\n      <td>Poison</td>\n      <td>60</td>\n      <td>62</td>\n      <td>63</td>\n      <td>80</td>\n      <td>80</td>\n      <td>60</td>\n      <td>1</td>\n      <td>False</td>\n      <td>345</td>\n    </tr>\n    <tr>\n      <th>2</th>\n      <td>3</td>\n      <td>Venusaur</td>\n      <td>Grass</td>\n      <td>Poison</td>\n      <td>80</td>\n      <td>82</td>\n      <td>83</td>\n      <td>100</td>\n      <td>100</td>\n      <td>80</td>\n      <td>1</td>\n      <td>False</td>\n      <td>445</td>\n    </tr>\n  </tbody>\n</table>\n</div>"
     },
     "execution_count": 22,
     "metadata": {},
     "output_type": "execute_result"
    }
   ],
   "source": [
    "df.iloc[0,4] = 44\n",
    "df.head(3)"
   ],
   "metadata": {
    "collapsed": false,
    "pycharm": {
     "name": "#%%\n"
    }
   }
  },
  {
   "cell_type": "markdown",
   "source": [
    "## Exporting the data\n",
    "* add index attribute to remove index at beginning in export\n",
    "\n"
   ],
   "metadata": {
    "collapsed": false,
    "pycharm": {
     "name": "#%% md\n"
    }
   }
  },
  {
   "cell_type": "code",
   "execution_count": 23,
   "outputs": [],
   "source": [
    "df.to_csv('modified.csv', index=False)"
   ],
   "metadata": {
    "collapsed": false,
    "pycharm": {
     "name": "#%%\n"
    }
   }
  },
  {
   "cell_type": "markdown",
   "source": [
    "## Filtering the data\n",
    "* Pandas allows one to specify conditionals\n",
    "* reset_index(drop = True)\n",
    "* ~ instead of !"
   ],
   "metadata": {
    "collapsed": false,
    "pycharm": {
     "name": "#%% md\n"
    }
   }
  },
  {
   "cell_type": "code",
   "execution_count": 27,
   "outputs": [
    {
     "data": {
      "text/plain": "       #                   Name Type 1  Type 2   HP  Attack  Defense  Sp. Atk  \\\n0      1              Bulbasaur  Grass  Poison   44      49       49       65   \n1      2                Ivysaur  Grass  Poison   60      62       63       80   \n2      3               Venusaur  Grass  Poison   80      82       83      100   \n3      3  VenusaurMega Venusaur  Grass  Poison   80     100      123      122   \n48    43                 Oddish  Grass  Poison   45      50       55       75   \n49    44                  Gloom  Grass  Poison   60      65       70       85   \n50    45              Vileplume  Grass  Poison   75      80       85      110   \n75    69             Bellsprout  Grass  Poison   50      75       35       70   \n76    70             Weepinbell  Grass  Poison   65      90       50       85   \n77    71             Victreebel  Grass  Poison   80     105       65      100   \n344  315                Roselia  Grass  Poison   50      60       45      100   \n451  406                  Budew  Grass  Poison   40      30       35       50   \n452  407               Roserade  Grass  Poison   60      70       65      125   \n651  590                Foongus  Grass  Poison   69      55       45       55   \n652  591              Amoonguss  Grass  Poison  114      85       70       85   \n\n     Sp. Def  Speed  Generation  Legendary  Total  \n0         65     45           1      False    273  \n1         80     60           1      False    345  \n2        100     80           1      False    445  \n3        120     80           1      False    545  \n48        65     30           1      False    290  \n49        75     40           1      False    355  \n50        90     50           1      False    440  \n75        30     40           1      False    260  \n76        45     55           1      False    335  \n77        70     70           1      False    420  \n344       80     65           3      False    335  \n451       70     55           4      False    225  \n452      105     90           4      False    425  \n651       55     15           5      False    279  \n652       80     30           5      False    434  ",
      "text/html": "<div>\n<style scoped>\n    .dataframe tbody tr th:only-of-type {\n        vertical-align: middle;\n    }\n\n    .dataframe tbody tr th {\n        vertical-align: top;\n    }\n\n    .dataframe thead th {\n        text-align: right;\n    }\n</style>\n<table border=\"1\" class=\"dataframe\">\n  <thead>\n    <tr style=\"text-align: right;\">\n      <th></th>\n      <th>#</th>\n      <th>Name</th>\n      <th>Type 1</th>\n      <th>Type 2</th>\n      <th>HP</th>\n      <th>Attack</th>\n      <th>Defense</th>\n      <th>Sp. Atk</th>\n      <th>Sp. Def</th>\n      <th>Speed</th>\n      <th>Generation</th>\n      <th>Legendary</th>\n      <th>Total</th>\n    </tr>\n  </thead>\n  <tbody>\n    <tr>\n      <th>0</th>\n      <td>1</td>\n      <td>Bulbasaur</td>\n      <td>Grass</td>\n      <td>Poison</td>\n      <td>44</td>\n      <td>49</td>\n      <td>49</td>\n      <td>65</td>\n      <td>65</td>\n      <td>45</td>\n      <td>1</td>\n      <td>False</td>\n      <td>273</td>\n    </tr>\n    <tr>\n      <th>1</th>\n      <td>2</td>\n      <td>Ivysaur</td>\n      <td>Grass</td>\n      <td>Poison</td>\n      <td>60</td>\n      <td>62</td>\n      <td>63</td>\n      <td>80</td>\n      <td>80</td>\n      <td>60</td>\n      <td>1</td>\n      <td>False</td>\n      <td>345</td>\n    </tr>\n    <tr>\n      <th>2</th>\n      <td>3</td>\n      <td>Venusaur</td>\n      <td>Grass</td>\n      <td>Poison</td>\n      <td>80</td>\n      <td>82</td>\n      <td>83</td>\n      <td>100</td>\n      <td>100</td>\n      <td>80</td>\n      <td>1</td>\n      <td>False</td>\n      <td>445</td>\n    </tr>\n    <tr>\n      <th>3</th>\n      <td>3</td>\n      <td>VenusaurMega Venusaur</td>\n      <td>Grass</td>\n      <td>Poison</td>\n      <td>80</td>\n      <td>100</td>\n      <td>123</td>\n      <td>122</td>\n      <td>120</td>\n      <td>80</td>\n      <td>1</td>\n      <td>False</td>\n      <td>545</td>\n    </tr>\n    <tr>\n      <th>48</th>\n      <td>43</td>\n      <td>Oddish</td>\n      <td>Grass</td>\n      <td>Poison</td>\n      <td>45</td>\n      <td>50</td>\n      <td>55</td>\n      <td>75</td>\n      <td>65</td>\n      <td>30</td>\n      <td>1</td>\n      <td>False</td>\n      <td>290</td>\n    </tr>\n    <tr>\n      <th>49</th>\n      <td>44</td>\n      <td>Gloom</td>\n      <td>Grass</td>\n      <td>Poison</td>\n      <td>60</td>\n      <td>65</td>\n      <td>70</td>\n      <td>85</td>\n      <td>75</td>\n      <td>40</td>\n      <td>1</td>\n      <td>False</td>\n      <td>355</td>\n    </tr>\n    <tr>\n      <th>50</th>\n      <td>45</td>\n      <td>Vileplume</td>\n      <td>Grass</td>\n      <td>Poison</td>\n      <td>75</td>\n      <td>80</td>\n      <td>85</td>\n      <td>110</td>\n      <td>90</td>\n      <td>50</td>\n      <td>1</td>\n      <td>False</td>\n      <td>440</td>\n    </tr>\n    <tr>\n      <th>75</th>\n      <td>69</td>\n      <td>Bellsprout</td>\n      <td>Grass</td>\n      <td>Poison</td>\n      <td>50</td>\n      <td>75</td>\n      <td>35</td>\n      <td>70</td>\n      <td>30</td>\n      <td>40</td>\n      <td>1</td>\n      <td>False</td>\n      <td>260</td>\n    </tr>\n    <tr>\n      <th>76</th>\n      <td>70</td>\n      <td>Weepinbell</td>\n      <td>Grass</td>\n      <td>Poison</td>\n      <td>65</td>\n      <td>90</td>\n      <td>50</td>\n      <td>85</td>\n      <td>45</td>\n      <td>55</td>\n      <td>1</td>\n      <td>False</td>\n      <td>335</td>\n    </tr>\n    <tr>\n      <th>77</th>\n      <td>71</td>\n      <td>Victreebel</td>\n      <td>Grass</td>\n      <td>Poison</td>\n      <td>80</td>\n      <td>105</td>\n      <td>65</td>\n      <td>100</td>\n      <td>70</td>\n      <td>70</td>\n      <td>1</td>\n      <td>False</td>\n      <td>420</td>\n    </tr>\n    <tr>\n      <th>344</th>\n      <td>315</td>\n      <td>Roselia</td>\n      <td>Grass</td>\n      <td>Poison</td>\n      <td>50</td>\n      <td>60</td>\n      <td>45</td>\n      <td>100</td>\n      <td>80</td>\n      <td>65</td>\n      <td>3</td>\n      <td>False</td>\n      <td>335</td>\n    </tr>\n    <tr>\n      <th>451</th>\n      <td>406</td>\n      <td>Budew</td>\n      <td>Grass</td>\n      <td>Poison</td>\n      <td>40</td>\n      <td>30</td>\n      <td>35</td>\n      <td>50</td>\n      <td>70</td>\n      <td>55</td>\n      <td>4</td>\n      <td>False</td>\n      <td>225</td>\n    </tr>\n    <tr>\n      <th>452</th>\n      <td>407</td>\n      <td>Roserade</td>\n      <td>Grass</td>\n      <td>Poison</td>\n      <td>60</td>\n      <td>70</td>\n      <td>65</td>\n      <td>125</td>\n      <td>105</td>\n      <td>90</td>\n      <td>4</td>\n      <td>False</td>\n      <td>425</td>\n    </tr>\n    <tr>\n      <th>651</th>\n      <td>590</td>\n      <td>Foongus</td>\n      <td>Grass</td>\n      <td>Poison</td>\n      <td>69</td>\n      <td>55</td>\n      <td>45</td>\n      <td>55</td>\n      <td>55</td>\n      <td>15</td>\n      <td>5</td>\n      <td>False</td>\n      <td>279</td>\n    </tr>\n    <tr>\n      <th>652</th>\n      <td>591</td>\n      <td>Amoonguss</td>\n      <td>Grass</td>\n      <td>Poison</td>\n      <td>114</td>\n      <td>85</td>\n      <td>70</td>\n      <td>85</td>\n      <td>80</td>\n      <td>30</td>\n      <td>5</td>\n      <td>False</td>\n      <td>434</td>\n    </tr>\n  </tbody>\n</table>\n</div>"
     },
     "execution_count": 27,
     "metadata": {},
     "output_type": "execute_result"
    }
   ],
   "source": [
    "df.loc[(df['Type 1'] == 'Grass') & (df['Type 2'] == 'Poison')]"
   ],
   "metadata": {
    "collapsed": false,
    "pycharm": {
     "name": "#%%\n"
    }
   }
  },
  {
   "cell_type": "code",
   "execution_count": 31,
   "outputs": [
    {
     "data": {
      "text/plain": "       #                 Name   Type 1  Type 2   HP  Attack  Defense  Sp. Atk  \\\n0      1            Bulbasaur    Grass  Poison   44      49       49       65   \n1      2              Ivysaur    Grass  Poison   60      62       63       80   \n2      3             Venusaur    Grass  Poison   80      82       83      100   \n4      4           Charmander     Fire     NaN   39      52       43       60   \n5      5           Charmeleon     Fire     NaN   58      64       58       80   \n..   ...                  ...      ...     ...  ...     ...      ...      ...   \n794  718     Zygarde50% Forme   Dragon  Ground  108     100      121       81   \n795  719              Diancie     Rock   Fairy   50     100      150      100   \n797  720  HoopaHoopa Confined  Psychic   Ghost   80     110       60      150   \n798  720   HoopaHoopa Unbound  Psychic    Dark   80     160       60      170   \n799  721            Volcanion     Fire   Water   80     110      120      130   \n\n     Sp. Def  Speed  Generation  Legendary  Total  \n0         65     45           1      False    273  \n1         80     60           1      False    345  \n2        100     80           1      False    445  \n4         50     65           1      False    244  \n5         65     80           1      False    325  \n..       ...    ...         ...        ...    ...  \n794       95     95           6       True    505  \n795      150     50           6       True    550  \n797      130     70           6       True    530  \n798      130     80           6       True    600  \n799       90     70           6       True    530  \n\n[751 rows x 13 columns]",
      "text/html": "<div>\n<style scoped>\n    .dataframe tbody tr th:only-of-type {\n        vertical-align: middle;\n    }\n\n    .dataframe tbody tr th {\n        vertical-align: top;\n    }\n\n    .dataframe thead th {\n        text-align: right;\n    }\n</style>\n<table border=\"1\" class=\"dataframe\">\n  <thead>\n    <tr style=\"text-align: right;\">\n      <th></th>\n      <th>#</th>\n      <th>Name</th>\n      <th>Type 1</th>\n      <th>Type 2</th>\n      <th>HP</th>\n      <th>Attack</th>\n      <th>Defense</th>\n      <th>Sp. Atk</th>\n      <th>Sp. Def</th>\n      <th>Speed</th>\n      <th>Generation</th>\n      <th>Legendary</th>\n      <th>Total</th>\n    </tr>\n  </thead>\n  <tbody>\n    <tr>\n      <th>0</th>\n      <td>1</td>\n      <td>Bulbasaur</td>\n      <td>Grass</td>\n      <td>Poison</td>\n      <td>44</td>\n      <td>49</td>\n      <td>49</td>\n      <td>65</td>\n      <td>65</td>\n      <td>45</td>\n      <td>1</td>\n      <td>False</td>\n      <td>273</td>\n    </tr>\n    <tr>\n      <th>1</th>\n      <td>2</td>\n      <td>Ivysaur</td>\n      <td>Grass</td>\n      <td>Poison</td>\n      <td>60</td>\n      <td>62</td>\n      <td>63</td>\n      <td>80</td>\n      <td>80</td>\n      <td>60</td>\n      <td>1</td>\n      <td>False</td>\n      <td>345</td>\n    </tr>\n    <tr>\n      <th>2</th>\n      <td>3</td>\n      <td>Venusaur</td>\n      <td>Grass</td>\n      <td>Poison</td>\n      <td>80</td>\n      <td>82</td>\n      <td>83</td>\n      <td>100</td>\n      <td>100</td>\n      <td>80</td>\n      <td>1</td>\n      <td>False</td>\n      <td>445</td>\n    </tr>\n    <tr>\n      <th>4</th>\n      <td>4</td>\n      <td>Charmander</td>\n      <td>Fire</td>\n      <td>NaN</td>\n      <td>39</td>\n      <td>52</td>\n      <td>43</td>\n      <td>60</td>\n      <td>50</td>\n      <td>65</td>\n      <td>1</td>\n      <td>False</td>\n      <td>244</td>\n    </tr>\n    <tr>\n      <th>5</th>\n      <td>5</td>\n      <td>Charmeleon</td>\n      <td>Fire</td>\n      <td>NaN</td>\n      <td>58</td>\n      <td>64</td>\n      <td>58</td>\n      <td>80</td>\n      <td>65</td>\n      <td>80</td>\n      <td>1</td>\n      <td>False</td>\n      <td>325</td>\n    </tr>\n    <tr>\n      <th>...</th>\n      <td>...</td>\n      <td>...</td>\n      <td>...</td>\n      <td>...</td>\n      <td>...</td>\n      <td>...</td>\n      <td>...</td>\n      <td>...</td>\n      <td>...</td>\n      <td>...</td>\n      <td>...</td>\n      <td>...</td>\n      <td>...</td>\n    </tr>\n    <tr>\n      <th>794</th>\n      <td>718</td>\n      <td>Zygarde50% Forme</td>\n      <td>Dragon</td>\n      <td>Ground</td>\n      <td>108</td>\n      <td>100</td>\n      <td>121</td>\n      <td>81</td>\n      <td>95</td>\n      <td>95</td>\n      <td>6</td>\n      <td>True</td>\n      <td>505</td>\n    </tr>\n    <tr>\n      <th>795</th>\n      <td>719</td>\n      <td>Diancie</td>\n      <td>Rock</td>\n      <td>Fairy</td>\n      <td>50</td>\n      <td>100</td>\n      <td>150</td>\n      <td>100</td>\n      <td>150</td>\n      <td>50</td>\n      <td>6</td>\n      <td>True</td>\n      <td>550</td>\n    </tr>\n    <tr>\n      <th>797</th>\n      <td>720</td>\n      <td>HoopaHoopa Confined</td>\n      <td>Psychic</td>\n      <td>Ghost</td>\n      <td>80</td>\n      <td>110</td>\n      <td>60</td>\n      <td>150</td>\n      <td>130</td>\n      <td>70</td>\n      <td>6</td>\n      <td>True</td>\n      <td>530</td>\n    </tr>\n    <tr>\n      <th>798</th>\n      <td>720</td>\n      <td>HoopaHoopa Unbound</td>\n      <td>Psychic</td>\n      <td>Dark</td>\n      <td>80</td>\n      <td>160</td>\n      <td>60</td>\n      <td>170</td>\n      <td>130</td>\n      <td>80</td>\n      <td>6</td>\n      <td>True</td>\n      <td>600</td>\n    </tr>\n    <tr>\n      <th>799</th>\n      <td>721</td>\n      <td>Volcanion</td>\n      <td>Fire</td>\n      <td>Water</td>\n      <td>80</td>\n      <td>110</td>\n      <td>120</td>\n      <td>130</td>\n      <td>90</td>\n      <td>70</td>\n      <td>6</td>\n      <td>True</td>\n      <td>530</td>\n    </tr>\n  </tbody>\n</table>\n<p>751 rows × 13 columns</p>\n</div>"
     },
     "execution_count": 31,
     "metadata": {},
     "output_type": "execute_result"
    }
   ],
   "source": [
    "df.loc[~df['Name'].str.contains('Mega')]"
   ],
   "metadata": {
    "collapsed": false,
    "pycharm": {
     "name": "#%%\n"
    }
   }
  },
  {
   "cell_type": "markdown",
   "source": [
    "## Aggregate statistics (E.g GROUPBY)"
   ],
   "metadata": {
    "collapsed": false,
    "pycharm": {
     "name": "#%% md\n"
    }
   }
  },
  {
   "cell_type": "code",
   "execution_count": 32,
   "outputs": [
    {
     "data": {
      "text/plain": "              #    HP  Attack  Defense  Sp. Atk  Sp. Def  Speed  Generation  \\\nType 1                                                                        \nBug       23080  3925    4897     4880     3717     4471   4256         222   \nDark      14302  2071    2740     2177     2314     2155   2361         125   \nDragon    15180  2666    3588     2764     3099     2843   2657         124   \nElectric  15994  2631    3040     2917     3961     3243   3718         144   \nFairy      7642  1260    1046     1117     1335     1440    826          70   \nFighting   9824  1886    2613     1780     1434     1747   1784          91   \nFire      17025  3635    4408     3524     4627     3755   3871         167   \nFlying     2711   283     315      265      377      290    410          22   \nGhost     15568  2062    2361     2598     2539     2447   2059         134   \nGrass     24141  4708    5125     4956     5425     4930   4335         235   \nGround    11401  2361    3064     2715     1807     2008   2045         101   \nIce       10165  1728    1746     1714     1861     1831   1523          85   \nNormal    31279  7573    7200     5865     5470     6245   7012         299   \nPoison     7050  1883    2091     1927     1692     1803   1780          71   \nPsychic   21706  4026    4073     3858     5609     4918   4645         193   \nRock      17280  2876    4086     4435     2787     3321   2460         152   \nSteel     11957  1761    2503     3412     1823     2177   1492         104   \nWater     33946  8071    8305     8170     8379     7898   7388         320   \n\n          Legendary  Total  \nType 1                      \nBug               0  21890  \nDark              2  11457  \nDragon           12  14960  \nElectric          4  15792  \nFairy             1   6198  \nFighting          0   9460  \nFire              5  19949  \nFlying            2   1530  \nGhost             2  12007  \nGrass             3  25145  \nGround            4  11955  \nIce               2   8880  \nNormal            2  32353  \nPoison            0   9396  \nPsychic          14  22484  \nRock              4  17505  \nSteel             4  11676  \nWater             4  40823  ",
      "text/html": "<div>\n<style scoped>\n    .dataframe tbody tr th:only-of-type {\n        vertical-align: middle;\n    }\n\n    .dataframe tbody tr th {\n        vertical-align: top;\n    }\n\n    .dataframe thead th {\n        text-align: right;\n    }\n</style>\n<table border=\"1\" class=\"dataframe\">\n  <thead>\n    <tr style=\"text-align: right;\">\n      <th></th>\n      <th>#</th>\n      <th>HP</th>\n      <th>Attack</th>\n      <th>Defense</th>\n      <th>Sp. Atk</th>\n      <th>Sp. Def</th>\n      <th>Speed</th>\n      <th>Generation</th>\n      <th>Legendary</th>\n      <th>Total</th>\n    </tr>\n    <tr>\n      <th>Type 1</th>\n      <th></th>\n      <th></th>\n      <th></th>\n      <th></th>\n      <th></th>\n      <th></th>\n      <th></th>\n      <th></th>\n      <th></th>\n      <th></th>\n    </tr>\n  </thead>\n  <tbody>\n    <tr>\n      <th>Bug</th>\n      <td>23080</td>\n      <td>3925</td>\n      <td>4897</td>\n      <td>4880</td>\n      <td>3717</td>\n      <td>4471</td>\n      <td>4256</td>\n      <td>222</td>\n      <td>0</td>\n      <td>21890</td>\n    </tr>\n    <tr>\n      <th>Dark</th>\n      <td>14302</td>\n      <td>2071</td>\n      <td>2740</td>\n      <td>2177</td>\n      <td>2314</td>\n      <td>2155</td>\n      <td>2361</td>\n      <td>125</td>\n      <td>2</td>\n      <td>11457</td>\n    </tr>\n    <tr>\n      <th>Dragon</th>\n      <td>15180</td>\n      <td>2666</td>\n      <td>3588</td>\n      <td>2764</td>\n      <td>3099</td>\n      <td>2843</td>\n      <td>2657</td>\n      <td>124</td>\n      <td>12</td>\n      <td>14960</td>\n    </tr>\n    <tr>\n      <th>Electric</th>\n      <td>15994</td>\n      <td>2631</td>\n      <td>3040</td>\n      <td>2917</td>\n      <td>3961</td>\n      <td>3243</td>\n      <td>3718</td>\n      <td>144</td>\n      <td>4</td>\n      <td>15792</td>\n    </tr>\n    <tr>\n      <th>Fairy</th>\n      <td>7642</td>\n      <td>1260</td>\n      <td>1046</td>\n      <td>1117</td>\n      <td>1335</td>\n      <td>1440</td>\n      <td>826</td>\n      <td>70</td>\n      <td>1</td>\n      <td>6198</td>\n    </tr>\n    <tr>\n      <th>Fighting</th>\n      <td>9824</td>\n      <td>1886</td>\n      <td>2613</td>\n      <td>1780</td>\n      <td>1434</td>\n      <td>1747</td>\n      <td>1784</td>\n      <td>91</td>\n      <td>0</td>\n      <td>9460</td>\n    </tr>\n    <tr>\n      <th>Fire</th>\n      <td>17025</td>\n      <td>3635</td>\n      <td>4408</td>\n      <td>3524</td>\n      <td>4627</td>\n      <td>3755</td>\n      <td>3871</td>\n      <td>167</td>\n      <td>5</td>\n      <td>19949</td>\n    </tr>\n    <tr>\n      <th>Flying</th>\n      <td>2711</td>\n      <td>283</td>\n      <td>315</td>\n      <td>265</td>\n      <td>377</td>\n      <td>290</td>\n      <td>410</td>\n      <td>22</td>\n      <td>2</td>\n      <td>1530</td>\n    </tr>\n    <tr>\n      <th>Ghost</th>\n      <td>15568</td>\n      <td>2062</td>\n      <td>2361</td>\n      <td>2598</td>\n      <td>2539</td>\n      <td>2447</td>\n      <td>2059</td>\n      <td>134</td>\n      <td>2</td>\n      <td>12007</td>\n    </tr>\n    <tr>\n      <th>Grass</th>\n      <td>24141</td>\n      <td>4708</td>\n      <td>5125</td>\n      <td>4956</td>\n      <td>5425</td>\n      <td>4930</td>\n      <td>4335</td>\n      <td>235</td>\n      <td>3</td>\n      <td>25145</td>\n    </tr>\n    <tr>\n      <th>Ground</th>\n      <td>11401</td>\n      <td>2361</td>\n      <td>3064</td>\n      <td>2715</td>\n      <td>1807</td>\n      <td>2008</td>\n      <td>2045</td>\n      <td>101</td>\n      <td>4</td>\n      <td>11955</td>\n    </tr>\n    <tr>\n      <th>Ice</th>\n      <td>10165</td>\n      <td>1728</td>\n      <td>1746</td>\n      <td>1714</td>\n      <td>1861</td>\n      <td>1831</td>\n      <td>1523</td>\n      <td>85</td>\n      <td>2</td>\n      <td>8880</td>\n    </tr>\n    <tr>\n      <th>Normal</th>\n      <td>31279</td>\n      <td>7573</td>\n      <td>7200</td>\n      <td>5865</td>\n      <td>5470</td>\n      <td>6245</td>\n      <td>7012</td>\n      <td>299</td>\n      <td>2</td>\n      <td>32353</td>\n    </tr>\n    <tr>\n      <th>Poison</th>\n      <td>7050</td>\n      <td>1883</td>\n      <td>2091</td>\n      <td>1927</td>\n      <td>1692</td>\n      <td>1803</td>\n      <td>1780</td>\n      <td>71</td>\n      <td>0</td>\n      <td>9396</td>\n    </tr>\n    <tr>\n      <th>Psychic</th>\n      <td>21706</td>\n      <td>4026</td>\n      <td>4073</td>\n      <td>3858</td>\n      <td>5609</td>\n      <td>4918</td>\n      <td>4645</td>\n      <td>193</td>\n      <td>14</td>\n      <td>22484</td>\n    </tr>\n    <tr>\n      <th>Rock</th>\n      <td>17280</td>\n      <td>2876</td>\n      <td>4086</td>\n      <td>4435</td>\n      <td>2787</td>\n      <td>3321</td>\n      <td>2460</td>\n      <td>152</td>\n      <td>4</td>\n      <td>17505</td>\n    </tr>\n    <tr>\n      <th>Steel</th>\n      <td>11957</td>\n      <td>1761</td>\n      <td>2503</td>\n      <td>3412</td>\n      <td>1823</td>\n      <td>2177</td>\n      <td>1492</td>\n      <td>104</td>\n      <td>4</td>\n      <td>11676</td>\n    </tr>\n    <tr>\n      <th>Water</th>\n      <td>33946</td>\n      <td>8071</td>\n      <td>8305</td>\n      <td>8170</td>\n      <td>8379</td>\n      <td>7898</td>\n      <td>7388</td>\n      <td>320</td>\n      <td>4</td>\n      <td>40823</td>\n    </tr>\n  </tbody>\n</table>\n</div>"
     },
     "execution_count": 32,
     "metadata": {},
     "output_type": "execute_result"
    }
   ],
   "source": [
    "df2 = pd.read_csv('modified.csv')\n",
    "df2.groupby(['Type 1']).sum()"
   ],
   "metadata": {
    "collapsed": false,
    "pycharm": {
     "name": "#%%\n"
    }
   }
  },
  {
   "cell_type": "code",
   "execution_count": 33,
   "outputs": [
    {
     "data": {
      "text/plain": "            #  Name  Type 2   HP  Attack  Defense  Sp. Atk  Sp. Def  Speed  \\\nType 1                                                                       \nBug        69    69      52   69      69       69       69       69     69   \nDark       31    31      21   31      31       31       31       31     31   \nDragon     32    32      21   32      32       32       32       32     32   \nElectric   44    44      17   44      44       44       44       44     44   \nFairy      17    17       2   17      17       17       17       17     17   \nFighting   27    27       7   27      27       27       27       27     27   \nFire       52    52      24   52      52       52       52       52     52   \nFlying      4     4       2    4       4        4        4        4      4   \nGhost      32    32      22   32      32       32       32       32     32   \nGrass      70    70      37   70      70       70       70       70     70   \nGround     32    32      19   32      32       32       32       32     32   \nIce        24    24      11   24      24       24       24       24     24   \nNormal     98    98      37   98      98       98       98       98     98   \nPoison     28    28      13   28      28       28       28       28     28   \nPsychic    57    57      19   57      57       57       57       57     57   \nRock       44    44      35   44      44       44       44       44     44   \nSteel      27    27      22   27      27       27       27       27     27   \nWater     112   112      53  112     112      112      112      112    112   \n\n          Generation  Legendary  Total  \nType 1                                  \nBug               69         69     69  \nDark              31         31     31  \nDragon            32         32     32  \nElectric          44         44     44  \nFairy             17         17     17  \nFighting          27         27     27  \nFire              52         52     52  \nFlying             4          4      4  \nGhost             32         32     32  \nGrass             70         70     70  \nGround            32         32     32  \nIce               24         24     24  \nNormal            98         98     98  \nPoison            28         28     28  \nPsychic           57         57     57  \nRock              44         44     44  \nSteel             27         27     27  \nWater            112        112    112  ",
      "text/html": "<div>\n<style scoped>\n    .dataframe tbody tr th:only-of-type {\n        vertical-align: middle;\n    }\n\n    .dataframe tbody tr th {\n        vertical-align: top;\n    }\n\n    .dataframe thead th {\n        text-align: right;\n    }\n</style>\n<table border=\"1\" class=\"dataframe\">\n  <thead>\n    <tr style=\"text-align: right;\">\n      <th></th>\n      <th>#</th>\n      <th>Name</th>\n      <th>Type 2</th>\n      <th>HP</th>\n      <th>Attack</th>\n      <th>Defense</th>\n      <th>Sp. Atk</th>\n      <th>Sp. Def</th>\n      <th>Speed</th>\n      <th>Generation</th>\n      <th>Legendary</th>\n      <th>Total</th>\n    </tr>\n    <tr>\n      <th>Type 1</th>\n      <th></th>\n      <th></th>\n      <th></th>\n      <th></th>\n      <th></th>\n      <th></th>\n      <th></th>\n      <th></th>\n      <th></th>\n      <th></th>\n      <th></th>\n      <th></th>\n    </tr>\n  </thead>\n  <tbody>\n    <tr>\n      <th>Bug</th>\n      <td>69</td>\n      <td>69</td>\n      <td>52</td>\n      <td>69</td>\n      <td>69</td>\n      <td>69</td>\n      <td>69</td>\n      <td>69</td>\n      <td>69</td>\n      <td>69</td>\n      <td>69</td>\n      <td>69</td>\n    </tr>\n    <tr>\n      <th>Dark</th>\n      <td>31</td>\n      <td>31</td>\n      <td>21</td>\n      <td>31</td>\n      <td>31</td>\n      <td>31</td>\n      <td>31</td>\n      <td>31</td>\n      <td>31</td>\n      <td>31</td>\n      <td>31</td>\n      <td>31</td>\n    </tr>\n    <tr>\n      <th>Dragon</th>\n      <td>32</td>\n      <td>32</td>\n      <td>21</td>\n      <td>32</td>\n      <td>32</td>\n      <td>32</td>\n      <td>32</td>\n      <td>32</td>\n      <td>32</td>\n      <td>32</td>\n      <td>32</td>\n      <td>32</td>\n    </tr>\n    <tr>\n      <th>Electric</th>\n      <td>44</td>\n      <td>44</td>\n      <td>17</td>\n      <td>44</td>\n      <td>44</td>\n      <td>44</td>\n      <td>44</td>\n      <td>44</td>\n      <td>44</td>\n      <td>44</td>\n      <td>44</td>\n      <td>44</td>\n    </tr>\n    <tr>\n      <th>Fairy</th>\n      <td>17</td>\n      <td>17</td>\n      <td>2</td>\n      <td>17</td>\n      <td>17</td>\n      <td>17</td>\n      <td>17</td>\n      <td>17</td>\n      <td>17</td>\n      <td>17</td>\n      <td>17</td>\n      <td>17</td>\n    </tr>\n    <tr>\n      <th>Fighting</th>\n      <td>27</td>\n      <td>27</td>\n      <td>7</td>\n      <td>27</td>\n      <td>27</td>\n      <td>27</td>\n      <td>27</td>\n      <td>27</td>\n      <td>27</td>\n      <td>27</td>\n      <td>27</td>\n      <td>27</td>\n    </tr>\n    <tr>\n      <th>Fire</th>\n      <td>52</td>\n      <td>52</td>\n      <td>24</td>\n      <td>52</td>\n      <td>52</td>\n      <td>52</td>\n      <td>52</td>\n      <td>52</td>\n      <td>52</td>\n      <td>52</td>\n      <td>52</td>\n      <td>52</td>\n    </tr>\n    <tr>\n      <th>Flying</th>\n      <td>4</td>\n      <td>4</td>\n      <td>2</td>\n      <td>4</td>\n      <td>4</td>\n      <td>4</td>\n      <td>4</td>\n      <td>4</td>\n      <td>4</td>\n      <td>4</td>\n      <td>4</td>\n      <td>4</td>\n    </tr>\n    <tr>\n      <th>Ghost</th>\n      <td>32</td>\n      <td>32</td>\n      <td>22</td>\n      <td>32</td>\n      <td>32</td>\n      <td>32</td>\n      <td>32</td>\n      <td>32</td>\n      <td>32</td>\n      <td>32</td>\n      <td>32</td>\n      <td>32</td>\n    </tr>\n    <tr>\n      <th>Grass</th>\n      <td>70</td>\n      <td>70</td>\n      <td>37</td>\n      <td>70</td>\n      <td>70</td>\n      <td>70</td>\n      <td>70</td>\n      <td>70</td>\n      <td>70</td>\n      <td>70</td>\n      <td>70</td>\n      <td>70</td>\n    </tr>\n    <tr>\n      <th>Ground</th>\n      <td>32</td>\n      <td>32</td>\n      <td>19</td>\n      <td>32</td>\n      <td>32</td>\n      <td>32</td>\n      <td>32</td>\n      <td>32</td>\n      <td>32</td>\n      <td>32</td>\n      <td>32</td>\n      <td>32</td>\n    </tr>\n    <tr>\n      <th>Ice</th>\n      <td>24</td>\n      <td>24</td>\n      <td>11</td>\n      <td>24</td>\n      <td>24</td>\n      <td>24</td>\n      <td>24</td>\n      <td>24</td>\n      <td>24</td>\n      <td>24</td>\n      <td>24</td>\n      <td>24</td>\n    </tr>\n    <tr>\n      <th>Normal</th>\n      <td>98</td>\n      <td>98</td>\n      <td>37</td>\n      <td>98</td>\n      <td>98</td>\n      <td>98</td>\n      <td>98</td>\n      <td>98</td>\n      <td>98</td>\n      <td>98</td>\n      <td>98</td>\n      <td>98</td>\n    </tr>\n    <tr>\n      <th>Poison</th>\n      <td>28</td>\n      <td>28</td>\n      <td>13</td>\n      <td>28</td>\n      <td>28</td>\n      <td>28</td>\n      <td>28</td>\n      <td>28</td>\n      <td>28</td>\n      <td>28</td>\n      <td>28</td>\n      <td>28</td>\n    </tr>\n    <tr>\n      <th>Psychic</th>\n      <td>57</td>\n      <td>57</td>\n      <td>19</td>\n      <td>57</td>\n      <td>57</td>\n      <td>57</td>\n      <td>57</td>\n      <td>57</td>\n      <td>57</td>\n      <td>57</td>\n      <td>57</td>\n      <td>57</td>\n    </tr>\n    <tr>\n      <th>Rock</th>\n      <td>44</td>\n      <td>44</td>\n      <td>35</td>\n      <td>44</td>\n      <td>44</td>\n      <td>44</td>\n      <td>44</td>\n      <td>44</td>\n      <td>44</td>\n      <td>44</td>\n      <td>44</td>\n      <td>44</td>\n    </tr>\n    <tr>\n      <th>Steel</th>\n      <td>27</td>\n      <td>27</td>\n      <td>22</td>\n      <td>27</td>\n      <td>27</td>\n      <td>27</td>\n      <td>27</td>\n      <td>27</td>\n      <td>27</td>\n      <td>27</td>\n      <td>27</td>\n      <td>27</td>\n    </tr>\n    <tr>\n      <th>Water</th>\n      <td>112</td>\n      <td>112</td>\n      <td>53</td>\n      <td>112</td>\n      <td>112</td>\n      <td>112</td>\n      <td>112</td>\n      <td>112</td>\n      <td>112</td>\n      <td>112</td>\n      <td>112</td>\n      <td>112</td>\n    </tr>\n  </tbody>\n</table>\n</div>"
     },
     "execution_count": 33,
     "metadata": {},
     "output_type": "execute_result"
    }
   ],
   "source": [
    "df2.groupby(['Type 1']).count()"
   ],
   "metadata": {
    "collapsed": false,
    "pycharm": {
     "name": "#%%\n"
    }
   }
  },
  {
   "cell_type": "code",
   "execution_count": null,
   "outputs": [],
   "source": [],
   "metadata": {
    "collapsed": false,
    "pycharm": {
     "name": "#%%\n"
    }
   }
  }
 ],
 "metadata": {
  "kernelspec": {
   "display_name": "Python 3",
   "language": "python",
   "name": "python3"
  },
  "language_info": {
   "codemirror_mode": {
    "name": "ipython",
    "version": 2
   },
   "file_extension": ".py",
   "mimetype": "text/x-python",
   "name": "python",
   "nbconvert_exporter": "python",
   "pygments_lexer": "ipython2",
   "version": "2.7.6"
  }
 },
 "nbformat": 4,
 "nbformat_minor": 0
}