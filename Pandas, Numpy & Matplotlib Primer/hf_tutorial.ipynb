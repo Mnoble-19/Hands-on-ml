{
 "cells": [
  {
   "cell_type": "markdown",
   "source": [
    "### Practice for working with huggingface datasets"
   ],
   "metadata": {
    "collapsed": false
   },
   "id": "47788c65fe5c8b9c"
  },
  {
   "cell_type": "code",
   "execution_count": 1,
   "outputs": [],
   "source": [
    "from datasets import Dataset"
   ],
   "metadata": {
    "collapsed": false,
    "ExecuteTime": {
     "end_time": "2023-11-16T16:53:23.469440Z",
     "start_time": "2023-11-16T16:53:21.594574Z"
    }
   },
   "id": "4e2f5c06af14a525"
  },
  {
   "cell_type": "code",
   "execution_count": 2,
   "outputs": [
    {
     "data": {
      "text/plain": "Downloading data files:   0%|          | 0/1 [00:00<?, ?it/s]",
      "application/vnd.jupyter.widget-view+json": {
       "version_major": 2,
       "version_minor": 0,
       "model_id": "75185b1aa2c348fe9bdc1743a8d6493c"
      }
     },
     "metadata": {},
     "output_type": "display_data"
    },
    {
     "data": {
      "text/plain": "Extracting data files:   0%|          | 0/1 [00:00<?, ?it/s]",
      "application/vnd.jupyter.widget-view+json": {
       "version_major": 2,
       "version_minor": 0,
       "model_id": "561c94b254ea47159afa92c026b89b55"
      }
     },
     "metadata": {},
     "output_type": "display_data"
    },
    {
     "data": {
      "text/plain": "Generating train split: 0 examples [00:00, ? examples/s]",
      "application/vnd.jupyter.widget-view+json": {
       "version_major": 2,
       "version_minor": 0,
       "model_id": "84267c67e59a461f81bbfec17c3f4254"
      }
     },
     "metadata": {},
     "output_type": "display_data"
    },
    {
     "data": {
      "text/plain": "Uploading the dataset shards:   0%|          | 0/1 [00:00<?, ?it/s]",
      "application/vnd.jupyter.widget-view+json": {
       "version_major": 2,
       "version_minor": 0,
       "model_id": "9704af14ff044c6db19a445097f8fbe8"
      }
     },
     "metadata": {},
     "output_type": "display_data"
    },
    {
     "data": {
      "text/plain": "Creating parquet from Arrow format:   0%|          | 0/1 [00:00<?, ?ba/s]",
      "application/vnd.jupyter.widget-view+json": {
       "version_major": 2,
       "version_minor": 0,
       "model_id": "da1cd8b1fd9e44ae9c43e9389f020085"
      }
     },
     "metadata": {},
     "output_type": "display_data"
    }
   ],
   "source": [
    "airqo_data = Dataset.from_csv(path_or_paths=\"/Users/noble/Downloads/airqo_data.csv\")\n",
    "airqo_data = Dataset.from\n",
    "airqo_data.push_to_hub(\"Mnoble-19/airqo-chatbot-data\", commit_message=\"First commit\")\n",
    "airqo"
   ],
   "metadata": {
    "collapsed": false,
    "ExecuteTime": {
     "end_time": "2023-11-16T16:53:27.972784Z",
     "start_time": "2023-11-16T16:53:23.476318Z"
    }
   },
   "id": "5fc62213251af0ce"
  },
  {
   "cell_type": "code",
   "execution_count": null,
   "outputs": [],
   "source": [
    "#read dataset from local_json"
   ],
   "metadata": {
    "collapsed": false
   },
   "id": "ee1e3c4d090f4b2d"
  }
 ],
 "metadata": {
  "kernelspec": {
   "display_name": "Python 3",
   "language": "python",
   "name": "python3"
  },
  "language_info": {
   "codemirror_mode": {
    "name": "ipython",
    "version": 2
   },
   "file_extension": ".py",
   "mimetype": "text/x-python",
   "name": "python",
   "nbconvert_exporter": "python",
   "pygments_lexer": "ipython2",
   "version": "2.7.6"
  }
 },
 "nbformat": 4,
 "nbformat_minor": 5
}
